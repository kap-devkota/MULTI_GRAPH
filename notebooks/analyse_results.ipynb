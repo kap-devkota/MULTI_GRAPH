{
 "cells": [
  {
   "cell_type": "code",
   "execution_count": 2,
   "id": "86ea3b54",
   "metadata": {},
   "outputs": [],
   "source": [
    "import pandas as pd\n",
    "import seaborn as sns\n",
    "import matplotlib.pyplot as plt\n",
    "import os"
   ]
  },
  {
   "cell_type": "code",
   "execution_count": 11,
   "id": "b26fad57",
   "metadata": {},
   "outputs": [],
   "source": [
    "net_fold = \"../datasets/STRING/phate\"\n",
    "networks = os.listdir(net_fold)\n",
    "dfs      = {}\n",
    "for i, net in enumerate([f\"{net_fold}/{network}/outputs/\" for network in networks]):\n",
    "    for GO in [\"P\", \"F\", \"C\"]:\n",
    "        if os.path.exists(f\"{net}/res-results_dim_100_t_5-{GO}.tsv\"):\n",
    "            dfs[f\"{networks[i]}#{GO}\"] = pd.read_csv(f\"{net}/res-results_dim_100_t_5-{GO}.tsv\", sep = \"\\t\")"
   ]
  },
  {
   "cell_type": "code",
   "execution_count": 17,
   "id": "29b5bee0",
   "metadata": {},
   "outputs": [
    {
     "data": {
      "text/plain": [
       "{'neighbor#P':    Unnamed: 0   RESNICK        F1       ACC\n",
       " 0           0  2.382530  0.632220  0.455556\n",
       " 1           1  2.532254  0.636114  0.533333\n",
       " 2           2  2.309865  0.594749  0.566667\n",
       " 3           3  2.217795  0.576299  0.577778\n",
       " 4           4  2.449200  0.520914  0.576087,\n",
       " 'neighbor#C':    Unnamed: 0   RESNICK        F1       ACC\n",
       " 0           0  1.079144  0.307114  0.145497\n",
       " 1           1  1.020193  0.304764  0.152425\n",
       " 2           2  1.052175  0.332792  0.180139\n",
       " 3           3  1.098793  0.299300  0.168591\n",
       " 4           4  1.002846  0.356862  0.218894,\n",
       " 'fusion#P':    Unnamed: 0   RESNICK        F1       ACC\n",
       " 0           0  0.911921  0.200041  0.146739\n",
       " 1           1  1.071218  0.238674  0.141304\n",
       " 2           2  1.007408  0.277628  0.130435\n",
       " 3           3  1.014570  0.251182  0.135870\n",
       " 4           4  1.010328  0.239293  0.145946,\n",
       " 'fusion#F':    Unnamed: 0   RESNICK        F1       ACC\n",
       " 0           0  1.094118  0.243127  0.087379\n",
       " 1           1  1.142462  0.226916  0.087379\n",
       " 2           2  1.077854  0.231404  0.104369\n",
       " 3           3  1.125633  0.226747  0.075243\n",
       " 4           4  1.164310  0.237423  0.125908,\n",
       " 'fusion#C':    Unnamed: 0   RESNICK        F1       ACC\n",
       " 0           0  0.799906  0.192374  0.044928\n",
       " 1           1  0.797249  0.180398  0.031884\n",
       " 2           2  0.780865  0.185784  0.039130\n",
       " 3           3  0.843766  0.183175  0.034783\n",
       " 4           4  0.804792  0.183761  0.066282,\n",
       " 'database#P':    Unnamed: 0   RESNICK        F1       ACC\n",
       " 0           0  1.083278  0.261724  0.183024\n",
       " 1           1  1.134381  0.280429  0.208223\n",
       " 2           2  1.154320  0.281295  0.185676\n",
       " 3           3  1.011880  0.243839  0.217507\n",
       " 4           4  1.106023  0.267701  0.190728,\n",
       " 'database#F':    Unnamed: 0   RESNICK        F1       ACC\n",
       " 0           0  1.258702  0.226997  0.120056\n",
       " 1           1  1.232026  0.223942  0.165254\n",
       " 2           2  1.233854  0.229051  0.138418\n",
       " 3           3  1.272065  0.247314  0.146893\n",
       " 4           4  1.214616  0.231703  0.132208,\n",
       " 'database#C':    Unnamed: 0   RESNICK        F1       ACC\n",
       " 0           0  0.939028  0.212554  0.094572\n",
       " 1           1  0.938070  0.215769  0.086349\n",
       " 2           2  0.907015  0.242029  0.084704\n",
       " 3           3  0.918247  0.208123  0.080592\n",
       " 4           4  0.915218  0.199111  0.083744,\n",
       " 'coocurrence#P':    Unnamed: 0   RESNICK        F1       ACC\n",
       " 0           0  2.557259  0.540829  0.444444\n",
       " 1           1  2.256832  0.483765  0.500000\n",
       " 2           2  2.458107  0.659930  0.481481\n",
       " 3           3  2.535427  0.537756  0.462963\n",
       " 4           4  2.438655  0.552124  0.462963,\n",
       " 'coocurrence#F':    Unnamed: 0   RESNICK        F1       ACC\n",
       " 0           0  1.733957  0.517418  0.252577\n",
       " 1           1  1.759452  0.496433  0.231959\n",
       " 2           2  1.845950  0.480804  0.340206\n",
       " 3           3  1.813050  0.445771  0.268041\n",
       " 4           4  1.934961  0.494621  0.248731,\n",
       " 'coocurrence#C':    Unnamed: 0   RESNICK        F1       ACC\n",
       " 0           0  1.137663  0.316488  0.084967\n",
       " 1           1  1.059930  0.308777  0.147059\n",
       " 2           2  1.106382  0.307374  0.176471\n",
       " 3           3  1.080588  0.312643  0.104575\n",
       " 4           4  1.088693  0.310733  0.147059}"
      ]
     },
     "execution_count": 17,
     "metadata": {},
     "output_type": "execute_result"
    }
   ],
   "source": [
    "dfs"
   ]
  },
  {
   "cell_type": "code",
   "execution_count": 30,
   "id": "44eed09c",
   "metadata": {},
   "outputs": [],
   "source": [
    "data = []\n",
    "\n",
    "for netgo in dfs:\n",
    "    net, go = netgo.split(\"#\")\n",
    "    for fold in range(5):\n",
    "        for metric in [\"RESNICK\", \"F1\", \"ACC\"]:\n",
    "            # print(dfs[netgo].loc[fold, [metric]].values[0])\n",
    "            data.append((net, go, metric, fold, dfs[netgo].loc[fold, [metric]].values[0]))"
   ]
  },
  {
   "cell_type": "code",
   "execution_count": 31,
   "id": "2298c3c1",
   "metadata": {},
   "outputs": [
    {
     "data": {
      "text/html": [
       "<div>\n",
       "<style scoped>\n",
       "    .dataframe tbody tr th:only-of-type {\n",
       "        vertical-align: middle;\n",
       "    }\n",
       "\n",
       "    .dataframe tbody tr th {\n",
       "        vertical-align: top;\n",
       "    }\n",
       "\n",
       "    .dataframe thead th {\n",
       "        text-align: right;\n",
       "    }\n",
       "</style>\n",
       "<table border=\"1\" class=\"dataframe\">\n",
       "  <thead>\n",
       "    <tr style=\"text-align: right;\">\n",
       "      <th></th>\n",
       "      <th>Network</th>\n",
       "      <th>GO</th>\n",
       "      <th>metrics</th>\n",
       "      <th>fold</th>\n",
       "      <th>score</th>\n",
       "    </tr>\n",
       "  </thead>\n",
       "  <tbody>\n",
       "    <tr>\n",
       "      <th>0</th>\n",
       "      <td>neighbor</td>\n",
       "      <td>P</td>\n",
       "      <td>RESNICK</td>\n",
       "      <td>0</td>\n",
       "      <td>2.382530</td>\n",
       "    </tr>\n",
       "    <tr>\n",
       "      <th>1</th>\n",
       "      <td>neighbor</td>\n",
       "      <td>P</td>\n",
       "      <td>F1</td>\n",
       "      <td>0</td>\n",
       "      <td>0.632220</td>\n",
       "    </tr>\n",
       "    <tr>\n",
       "      <th>2</th>\n",
       "      <td>neighbor</td>\n",
       "      <td>P</td>\n",
       "      <td>ACC</td>\n",
       "      <td>0</td>\n",
       "      <td>0.455556</td>\n",
       "    </tr>\n",
       "    <tr>\n",
       "      <th>3</th>\n",
       "      <td>neighbor</td>\n",
       "      <td>P</td>\n",
       "      <td>RESNICK</td>\n",
       "      <td>1</td>\n",
       "      <td>2.532254</td>\n",
       "    </tr>\n",
       "    <tr>\n",
       "      <th>4</th>\n",
       "      <td>neighbor</td>\n",
       "      <td>P</td>\n",
       "      <td>F1</td>\n",
       "      <td>1</td>\n",
       "      <td>0.636114</td>\n",
       "    </tr>\n",
       "    <tr>\n",
       "      <th>...</th>\n",
       "      <td>...</td>\n",
       "      <td>...</td>\n",
       "      <td>...</td>\n",
       "      <td>...</td>\n",
       "      <td>...</td>\n",
       "    </tr>\n",
       "    <tr>\n",
       "      <th>160</th>\n",
       "      <td>coocurrence</td>\n",
       "      <td>C</td>\n",
       "      <td>F1</td>\n",
       "      <td>3</td>\n",
       "      <td>0.312643</td>\n",
       "    </tr>\n",
       "    <tr>\n",
       "      <th>161</th>\n",
       "      <td>coocurrence</td>\n",
       "      <td>C</td>\n",
       "      <td>ACC</td>\n",
       "      <td>3</td>\n",
       "      <td>0.104575</td>\n",
       "    </tr>\n",
       "    <tr>\n",
       "      <th>162</th>\n",
       "      <td>coocurrence</td>\n",
       "      <td>C</td>\n",
       "      <td>RESNICK</td>\n",
       "      <td>4</td>\n",
       "      <td>1.088693</td>\n",
       "    </tr>\n",
       "    <tr>\n",
       "      <th>163</th>\n",
       "      <td>coocurrence</td>\n",
       "      <td>C</td>\n",
       "      <td>F1</td>\n",
       "      <td>4</td>\n",
       "      <td>0.310733</td>\n",
       "    </tr>\n",
       "    <tr>\n",
       "      <th>164</th>\n",
       "      <td>coocurrence</td>\n",
       "      <td>C</td>\n",
       "      <td>ACC</td>\n",
       "      <td>4</td>\n",
       "      <td>0.147059</td>\n",
       "    </tr>\n",
       "  </tbody>\n",
       "</table>\n",
       "<p>165 rows × 5 columns</p>\n",
       "</div>"
      ],
      "text/plain": [
       "         Network GO  metrics  fold     score\n",
       "0       neighbor  P  RESNICK     0  2.382530\n",
       "1       neighbor  P       F1     0  0.632220\n",
       "2       neighbor  P      ACC     0  0.455556\n",
       "3       neighbor  P  RESNICK     1  2.532254\n",
       "4       neighbor  P       F1     1  0.636114\n",
       "..           ... ..      ...   ...       ...\n",
       "160  coocurrence  C       F1     3  0.312643\n",
       "161  coocurrence  C      ACC     3  0.104575\n",
       "162  coocurrence  C  RESNICK     4  1.088693\n",
       "163  coocurrence  C       F1     4  0.310733\n",
       "164  coocurrence  C      ACC     4  0.147059\n",
       "\n",
       "[165 rows x 5 columns]"
      ]
     },
     "execution_count": 31,
     "metadata": {},
     "output_type": "execute_result"
    }
   ],
   "source": [
    "df = pd.DataFrame(data, columns = [\"Network\", \"GO\", \"metrics\", \"fold\", \"score\"])\n",
    "df"
   ]
  },
  {
   "cell_type": "code",
   "execution_count": 35,
   "id": "ca991e51",
   "metadata": {},
   "outputs": [
    {
     "data": {
      "text/plain": [
       "<seaborn.axisgrid.FacetGrid at 0x7f47fa373390>"
      ]
     },
     "execution_count": 35,
     "metadata": {},
     "output_type": "execute_result"
    },
    {
     "data": {
      "image/png": "[encoded data removed]",
      "text/plain": [
       "<Figure size 1159.12x360 with 3 Axes>"
      ]
     },
     "metadata": {
      "needs_background": "light"
     },
     "output_type": "display_data"
    }
   ],
   "source": [
    "sns.catplot(data = df, x=\"Network\", y=\"score\", hue=\"metrics\", col=\"GO\", kind=\"bar\")"
   ]
  },
  {
   "cell_type": "code",
   "execution_count": null,
   "id": "6a7983a0",
   "metadata": {},
   "outputs": [],
   "source": []
  }
 ],
 "metadata": {
  "kernelspec": {
   "display_name": "Python 3 (ipykernel)",
   "language": "python",
   "name": "python3"
  },
  "language_info": {
   "codemirror_mode": {
    "name": "ipython",
    "version": 3
   },
   "file_extension": ".py",
   "mimetype": "text/x-python",
   "name": "python",
   "nbconvert_exporter": "python",
   "pygments_lexer": "ipython3",
   "version": "3.7.12"
  }
 },
 "nbformat": 4,
 "nbformat_minor": 5
}
